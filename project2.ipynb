{
 "cells": [
  {
   "cell_type": "code",
   "execution_count": 1,
   "metadata": {},
   "outputs": [],
   "source": [
    "import psycopg2\n",
    "import pandas as pd"
   ]
  },
  {
   "cell_type": "code",
   "execution_count": 3,
   "metadata": {},
   "outputs": [],
   "source": [
    "DBNAME = 'skillfactory'\n",
    "USER = 'skillfactory'\n",
    "PASSWORD = 'cCkxxLVrDE8EbvjueeMedPKt'\n",
    "HOST = '84.201.134.129'\n",
    "PORT = 5432"
   ]
  },
  {
   "cell_type": "code",
   "execution_count": 5,
   "metadata": {},
   "outputs": [],
   "source": [
    "connection = psycopg2.connect(\n",
    "   dbname=DBNAME,\n",
    "   user=USER,\n",
    "   host=HOST,\n",
    "   password=PASSWORD,\n",
    "   port=PORT\n",
    ")"
   ]
  },
  {
   "cell_type": "code",
   "execution_count": 6,
   "metadata": {},
   "outputs": [
    {
     "name": "stdout",
     "output_type": "stream",
     "text": [
      "   id                       name  type1   type2  hp  attack  defense  speed\n",
      "0   1                  Bulbasaur  Grass  Poison  45      49       49     45\n",
      "1   2                    Ivysaur  Grass  Poison  60      62       63     60\n",
      "2   3                   Venusaur  Grass  Poison  80      82       83     80\n",
      "3   4      VenusaurMega Venusaur  Grass  Poison  80     100      123     80\n",
      "4   7                  Charizard   Fire  Flying  78      84       78    100\n",
      "5   8  CharizardMega Charizard X   Fire  Dragon  78     130      111    100\n",
      "6   9  CharizardMega Charizard Y   Fire  Flying  78     104       78    100\n",
      "7  16                 Butterfree    Bug  Flying  60      45       50     70\n",
      "8  17                     Weedle    Bug  Poison  40      35       30     50\n",
      "9  18                     Kakuna    Bug  Poison  45      25       50     35\n"
     ]
    },
    {
     "name": "stderr",
     "output_type": "stream",
     "text": [
      "C:\\Users\\midadmin\\AppData\\Local\\Temp\\ipykernel_8728\\2376584045.py:10: UserWarning: pandas only supports SQLAlchemy connectable (engine/connection) or database string URI or sqlite3 DBAPI2 connection. Other DBAPI2 objects are not tested. Please consider using SQLAlchemy.\n",
      "  df = pd.read_sql_query(query, connection)\n"
     ]
    }
   ],
   "source": [
    "# код запроса представляет из себя строковую переменную\n",
    "n = 10\n",
    "query = f'''select *\n",
    "           from sql.pokemon\n",
    "           limit {n}\n",
    "        '''\n",
    "# лучше использовать f-строки — так удобнее передавать параметры\n",
    "\n",
    "# используем метод read_sql_query, чтобы получить результаты запроса сразу в виде датафрейма\n",
    "df = pd.read_sql_query(query, connection)\n",
    "print(df)"
   ]
  },
  {
   "cell_type": "code",
   "execution_count": null,
   "metadata": {},
   "outputs": [],
   "source": [
    "connection.close()"
   ]
  }
 ],
 "metadata": {
  "kernelspec": {
   "display_name": "Python 3",
   "language": "python",
   "name": "python3"
  },
  "language_info": {
   "codemirror_mode": {
    "name": "ipython",
    "version": 3
   },
   "file_extension": ".py",
   "mimetype": "text/x-python",
   "name": "python",
   "nbconvert_exporter": "python",
   "pygments_lexer": "ipython3",
   "version": "3.9.10"
  }
 },
 "nbformat": 4,
 "nbformat_minor": 2
}

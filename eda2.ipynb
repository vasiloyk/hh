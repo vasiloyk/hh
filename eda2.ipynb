{
 "cells": [
  {
   "cell_type": "code",
   "execution_count": 51,
   "metadata": {},
   "outputs": [
    {
     "name": "stdout",
     "output_type": "stream",
     "text": [
      "14.0\n",
      "35.363389129985535\n",
      "35.36\n"
     ]
    }
   ],
   "source": [
    "import pandas as pd\n",
    "import statistics \n",
    "data = pd.read_csv('data\\wine_cleared.csv')\n",
    "#print(data['points'].min())\n",
    "#print(data['price'].min())\n",
    "#print(statistics.mean(data['price']))\n",
    "#s = sum(data['price'])\n",
    "#l = len(data['price'])\n",
    "#print(s/l)\n",
    "#print(statistics.median(data['price'].sort_values()))\n",
    "\n",
    "sr = data['price'].sort_values()\n",
    "#print(data['price'])\n",
    "if len(sr)%2 == 1: print(sr[len(sr)//2]) \n",
    "else: print(sr[len(sr)//2]+sr[len(sr)//2+1]/2)\n",
    "\n",
    "print(statistics.mode(data['price']))    \n",
    "print(round(data['price'].value_counts().index[0],2))    "
   ]
  }
 ],
 "metadata": {
  "kernelspec": {
   "display_name": "Python 3",
   "language": "python",
   "name": "python3"
  },
  "language_info": {
   "codemirror_mode": {
    "name": "ipython",
    "version": 3
   },
   "file_extension": ".py",
   "mimetype": "text/x-python",
   "name": "python",
   "nbconvert_exporter": "python",
   "pygments_lexer": "ipython3",
   "version": "3.9.10"
  }
 },
 "nbformat": 4,
 "nbformat_minor": 2
}

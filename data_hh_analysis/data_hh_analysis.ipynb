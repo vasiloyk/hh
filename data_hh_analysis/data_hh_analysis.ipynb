{
 "cells": [
  {
   "cell_type": "code",
   "execution_count": 57,
   "metadata": {},
   "outputs": [
    {
     "name": "stdout",
     "output_type": "stream",
     "text": [
      "(44744, 12)\n"
     ]
    }
   ],
   "source": [
    "import pandas as pd\n",
    "import numpy as np\n",
    "\n",
    "data_hh = pd.read_csv('C:/Users/midadmin/Downloads/IDE/data_hh_analysis/data/hh_database.csv', sep=';')\n",
    "hh_df = data_hh.copy()\n",
    "print(hh_df.shape)"
   ]
  },
  {
   "cell_type": "code",
   "execution_count": 39,
   "metadata": {},
   "outputs": [
    {
     "name": "stdout",
     "output_type": "stream",
     "text": [
      "559\n"
     ]
    }
   ],
   "source": [
    "def get_education(arg):\n",
    "   \n",
    "    arg = ' '.join(arg.split(' ')[:3])\n",
    "    if 'Высшее' in arg:\n",
    "        return 'высшее'\n",
    "    elif 'Неоконченное высшее' in arg:\n",
    "        return 'неоконченное высшее'\n",
    "    elif 'Среднее специальное' in arg:\n",
    "        return 'среднее специальное'\n",
    "    elif 'Среднее образование' in arg:\n",
    "        return 'среднее'\n",
    "        \n",
    "hh_df['Образование'] = hh_df['Образование и ВУЗ'].apply(get_education)\n",
    "hh_df = hh_df.drop('Образование и ВУЗ', axis=1)\n",
    "print(hh_df['Образование'].value_counts()['среднее'])"
   ]
  },
  {
   "cell_type": "code",
   "execution_count": 40,
   "metadata": {},
   "outputs": [
    {
     "name": "stdout",
     "output_type": "stream",
     "text": [
      "32.19674146254246\n"
     ]
    }
   ],
   "source": [
    "def get_gender(arg):\n",
    "    arg_list = arg.split(' , ')\n",
    "    gender = ''\n",
    "    #old = ''\n",
    "    if 'Мужчина' == arg_list[0]:\n",
    "        gender = 'М'\n",
    "    else:\n",
    "        gender = 'Ж'\n",
    "    return gender\n",
    " \n",
    "def get_old(arg):\n",
    "    arg_list = arg.split(' , ')\n",
    "    \n",
    "    old = ''\n",
    "    \n",
    "    old_list = arg_list[1][1:].split(' ')    \n",
    "    old = int(old_list[0])\n",
    "    #print(old) \n",
    "\n",
    "    return old\n",
    "\n",
    "hh_df['Пол'] = hh_df['Пол, возраст'].apply(get_gender)\n",
    "hh_df['Возраст'] = hh_df['Пол, возраст'].apply(get_old)\n",
    "#print(hh_df['Пол'],hh_df['Возраст'])\n",
    "print(hh_df['Возраст'].mean())\n",
    "hh_df = hh_df.drop(['Пол, возраст'], axis=1)\n",
    "#print(hh_df[(hh_df['Пол']!='')&(hh_df['Возраст']>0)])"
   ]
  },
  {
   "cell_type": "code",
   "execution_count": 68,
   "metadata": {},
   "outputs": [
    {
     "name": "stdout",
     "output_type": "stream",
     "text": [
      "100.0\n"
     ]
    }
   ],
   "source": [
    "def get_experience(arg):\n",
    "    if arg is np.nan or arg == 'Не указано':\n",
    "        return None\n",
    "    year_words=['год', 'года', 'лет']\n",
    "    month_words=['месяц', 'месяца', 'месяцев']\n",
    "    arg_splitted = arg.split(' ')[:7]\n",
    "    years = 0\n",
    "    months = 0\n",
    "    for index, item in enumerate (arg_splitted):\n",
    "        if item in year_words:\n",
    "            years = int(arg_splitted[index-1])\n",
    "        if item in month_words:\n",
    "            months = int(arg_splitted[index-1])\n",
    "    return int(years*12 + months)\n",
    "hh_df['Опыт работы (месяц)'] = hh_df['Опыт работы'].apply(get_experience)\n",
    "hh_df = hh_df.drop('Опыт работы', axis=1)\n",
    "#print(hh_df['Опыт работы (месяц)'].median())"
   ]
  }
 ],
 "metadata": {
  "kernelspec": {
   "display_name": "Python 3",
   "language": "python",
   "name": "python3"
  },
  "language_info": {
   "codemirror_mode": {
    "name": "ipython",
    "version": 3
   },
   "file_extension": ".py",
   "mimetype": "text/x-python",
   "name": "python",
   "nbconvert_exporter": "python",
   "pygments_lexer": "ipython3",
   "version": "3.9.10"
  },
  "orig_nbformat": 4
 },
 "nbformat": 4,
 "nbformat_minor": 2
}

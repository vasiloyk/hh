{
 "cells": [
  {
   "cell_type": "code",
   "execution_count": 24,
   "metadata": {},
   "outputs": [
    {
     "name": "stdout",
     "output_type": "stream",
     "text": [
      "(44744, 12)\n"
     ]
    }
   ],
   "source": [
    "import pandas as pd\n",
    "import numpy as np\n",
    "\n",
    "#data_hh = pd.read_csv('C:/Users/midadmin/Downloads/IDE/data_hh_analysis/data/hh_database.csv', sep=';')\n",
    "data_hh = pd.read_csv('../data_hh_analysis/data/hh_database.csv', sep=';')\n",
    "hh_df = data_hh.copy()\n",
    "print(hh_df.shape)"
   ]
  },
  {
   "cell_type": "code",
   "execution_count": 25,
   "metadata": {},
   "outputs": [
    {
     "name": "stdout",
     "output_type": "stream",
     "text": [
      "559\n"
     ]
    }
   ],
   "source": [
    "def get_education(arg):\n",
    "   \n",
    "    arg = ' '.join(arg.split(' ')[:3])\n",
    "    if 'Высшее' in arg:\n",
    "        return 'высшее'\n",
    "    elif 'Неоконченное высшее' in arg:\n",
    "        return 'неоконченное высшее'\n",
    "    elif 'Среднее специальное' in arg:\n",
    "        return 'среднее специальное'\n",
    "    elif 'Среднее образование' in arg:\n",
    "        return 'среднее'\n",
    "        \n",
    "hh_df['Образование'] = hh_df['Образование и ВУЗ'].apply(get_education)\n",
    "hh_df = hh_df.drop('Образование и ВУЗ', axis=1)\n",
    "print(hh_df['Образование'].value_counts()['среднее'])"
   ]
  },
  {
   "cell_type": "code",
   "execution_count": 26,
   "metadata": {},
   "outputs": [
    {
     "name": "stdout",
     "output_type": "stream",
     "text": [
      "32.19674146254246\n"
     ]
    }
   ],
   "source": [
    "def get_gender(arg):\n",
    "    arg_list = arg.split(' , ')\n",
    "    gender = ''\n",
    "    #old = ''\n",
    "    if 'Мужчина' == arg_list[0]:\n",
    "        gender = 'М'\n",
    "    else:\n",
    "        gender = 'Ж'\n",
    "    return gender\n",
    " \n",
    "def get_old(arg):\n",
    "    arg_list = arg.split(' , ')\n",
    "    \n",
    "    old = ''\n",
    "    \n",
    "    old_list = arg_list[1][1:].split(' ')    \n",
    "    old = int(old_list[0])\n",
    "    #print(old) \n",
    "\n",
    "    return old\n",
    "\n",
    "hh_df['Пол'] = hh_df['Пол, возраст'].apply(get_gender)\n",
    "hh_df['Возраст'] = hh_df['Пол, возраст'].apply(get_old)\n",
    "#print(hh_df['Пол'],hh_df['Возраст'])\n",
    "print(hh_df['Возраст'].mean())\n",
    "hh_df = hh_df.drop(['Пол, возраст'], axis=1)\n",
    "#print(hh_df[(hh_df['Пол']!='')&(hh_df['Возраст']>0)])"
   ]
  },
  {
   "cell_type": "code",
   "execution_count": 27,
   "metadata": {},
   "outputs": [],
   "source": [
    "def get_experience(arg):\n",
    "    if arg is np.nan or arg == 'Не указано':\n",
    "        return None\n",
    "    year_words=['год', 'года', 'лет']\n",
    "    month_words=['месяц', 'месяца', 'месяцев']\n",
    "    arg_splitted = arg.split(' ')[:7]\n",
    "    years = 0\n",
    "    months = 0\n",
    "    for index, item in enumerate (arg_splitted):\n",
    "        if item in year_words:\n",
    "            years = int(arg_splitted[index-1])\n",
    "        if item in month_words:\n",
    "            months = int(arg_splitted[index-1])\n",
    "    return int(years*12 + months)\n",
    "hh_df['Опыт работы (месяц)'] = hh_df['Опыт работы'].apply(get_experience)\n",
    "hh_df = hh_df.drop('Опыт работы', axis=1)\n",
    "#print(hh_df['Опыт работы (месяц)'].median())"
   ]
  },
  {
   "cell_type": "code",
   "execution_count": 29,
   "metadata": {},
   "outputs": [],
   "source": [
    "def get_town(arg):\n",
    "    million_cities = ['Новосибирск', 'Екатеринбург', 'Нижний Новгород', 'Казань', 'Челябинск', 'Омск', 'Самара', 'Ростов-на-Дону', 'Уфа', 'Красноярск', 'Пермь', 'Воронеж', 'Волгоград' ]\n",
    "    arg_splitted = arg.split(' , ')[0]\n",
    "    if arg_splitted =='Москва':\n",
    "        return 'Москва'\n",
    "    elif arg_splitted == 'Санкт-Петербург':\n",
    "        return 'Санкт-Петербург'\n",
    "    elif arg_splitted in million_cities:\n",
    "        return 'город-миллионник'\n",
    "    else:\n",
    "        return 'другие'\n",
    "    \n",
    "    return arg_splitted\n",
    "\n",
    "def get_removal(arg):\n",
    "    #phrase_list = ['не готов к переезду','не готова к переезду']\n",
    "    if ('не готов к переезду' in arg) or ('не готова к переезду' in arg):\n",
    "        return False\n",
    "    elif 'хочу' in arg:\n",
    "        return True\n",
    "    else:\n",
    "        return True\n",
    "\n",
    "def get_travel(arg):\n",
    "    if ('командировка' in arg):\n",
    "        if ('не готов к командировкам' in arg) or('не готова к командировкам' in arg):\n",
    "            return False\n",
    "        else: \n",
    "            \n",
    "            return True\n",
    "    else:\n",
    "        return False\n",
    "    \n",
    "hh_df['Город'] = hh_df['Город, переезд, командировки'].apply(get_town)   \n",
    "hh_df['Готовность к переезду'] = hh_df['Город, переезд, командировки'].apply(get_removal)   \n",
    "hh_df['Готовность к командировкам'] = hh_df['Город, переезд, командировки'].apply(get_travel) \n",
    "#print(hh_df['Город'].value_counts()) \n",
    "#print(hh_df['Готовность к переезду'].value_counts()) \n",
    "#print(hh_df[(hh_df['Готовность к переезду']==True) & (hh_df['Готовность к командировкам']==True)]['Город'])\n",
    "#hh_df = hh_df.drop('Город, переезд, командировки', axis=1)"
   ]
  },
  {
   "cell_type": "code",
   "execution_count": 30,
   "metadata": {},
   "outputs": [
    {
     "name": "stdout",
     "output_type": "stream",
     "text": [
      "(436, 26)\n",
      "(2311, 26)\n"
     ]
    }
   ],
   "source": [
    "def get_full_employment(arg):\n",
    "    if 'полная занятость' in arg:\n",
    "        return True\n",
    "    return False\n",
    "\n",
    "def get_part_time_employment(arg):\n",
    "    if 'частичная занятость' in arg:\n",
    "        return True\n",
    "    return False\n",
    "\n",
    "def get_project_work(arg):\n",
    "    if 'проектная работа' in arg:\n",
    "        return True\n",
    "    return False\n",
    "\n",
    "def get_internship(arg):\n",
    "    if 'стажировка' in arg:\n",
    "        return True\n",
    "    return False\n",
    "\n",
    "def get_volunteering(arg):\n",
    "    if ('волонтерство' in arg)or('волонтёрство' in arg):\n",
    "        return True\n",
    "    return False\n",
    "\n",
    "def get_full_day(arg):\n",
    "    if 'полный день' in arg:\n",
    "        return True\n",
    "    return False\n",
    "\n",
    "def get_remote_work(arg):\n",
    "    if ('удаленная работа' in arg)or('удалённая работа' in arg):\n",
    "        return True\n",
    "    return False\n",
    "\n",
    "def get_shift_method(arg):\n",
    "    if 'вахтовый метод' in arg:\n",
    "        return True\n",
    "    return False\n",
    "\n",
    "def get_flexible_schedule(arg):\n",
    "    if 'гибкий график' in arg:\n",
    "        return True\n",
    "    return False\n",
    "\n",
    "def get_shift_schedule(arg):\n",
    "    if 'сменный график' in arg:\n",
    "        return True\n",
    "    return False\n",
    "\n",
    "hh_df['Полная занятость'] = hh_df['Занятость'].apply(get_full_employment)\n",
    "hh_df['Частичная занятость'] = hh_df['Занятость'].apply(get_part_time_employment)\n",
    "hh_df['Проектная работа'] = hh_df['Занятость'].apply(get_project_work)\n",
    "hh_df['Стажировка'] = hh_df['Занятость'].apply(get_internship)\n",
    "hh_df['Волонтерство'] = hh_df['Занятость'].apply(get_volunteering)\n",
    "hh_df['Полный день'] = hh_df['График'].apply(get_volunteering)\n",
    "hh_df['удалённая работа'] = hh_df['График'].apply(get_remote_work)\n",
    "hh_df['Вахтовый метод'] = hh_df['График'].apply(get_shift_method)\n",
    "hh_df['Гибкий график'] = hh_df['График'].apply(get_flexible_schedule)\n",
    "hh_df['Сменный график'] = hh_df['График'].apply(get_shift_schedule)\n",
    "\n",
    "print(hh_df[(hh_df['Волонтерство']==True)&(hh_df['Проектная работа']==True)].shape)\n",
    "print(hh_df[(hh_df['Вахтовый метод']==True)&(hh_df['Гибкий график']==True)].shape)"
   ]
  },
  {
   "cell_type": "code",
   "execution_count": null,
   "metadata": {},
   "outputs": [],
   "source": [
    "#ExcRates = pd.read_csv('C:/Users/midadmin/Downloads/IDE/data_hh_analysis/data/ExchangeRates.csv',sep=',')\n",
    "ExcRates = pd.read_csv('../data_hh_analysis/data/ExchangeRates.csv',sep=',')\n",
    "er_df = ExcRates.copy()\n",
    "#print(ExcRates.iloc[0:10,1:3])\n",
    "er_df['date'] = pd.to_datetime(er_df['date'],dayfirst=True)\n",
    "er_df['Дата'] = er_df['date'].dt.date\n",
    "print(er_df['Дата'])\n",
    "#print(ExcRates.loc[:,['date','Дата']])\n",
    "#hh_df['Дата'] = hh_df['Обновление резюме']\n",
    "hh_df['Обновление резюме'] = pd.to_datetime(hh_df['Обновление резюме'], dayfirst=True)\n",
    "hh_df['Обновление резюме'] = hh_df['Обновление резюме'].dt.date\n",
    "#print(hh_df.loc[:100,['Обновление резюме','Дата']])\n",
    "print(hh_df['Обновление резюме'])\n",
    "\n",
    "def get_salary_num(arg):\n",
    "    salary_num = arg.split(' ')[0]\n",
    "    return salary_num\n",
    "\n",
    "def get_salary_cur(arg):\n",
    "    get_salary_cur = arg.split(' ')[1]\n",
    "    return salary_cur\n",
    "\n",
    "hh_df['Оклад'] = hh_df['ЗП'].apply(get_salary_num)\n",
    "hh_df['Валюта'] = hh_df['ЗП'].apply(get_salary_cur)\n",
    "\n"
   ]
  }
 ],
 "metadata": {
  "kernelspec": {
   "display_name": "Python 3",
   "language": "python",
   "name": "python3"
  },
  "language_info": {
   "codemirror_mode": {
    "name": "ipython",
    "version": 3
   },
   "file_extension": ".py",
   "mimetype": "text/x-python",
   "name": "python",
   "nbconvert_exporter": "python",
   "pygments_lexer": "ipython3",
   "version": "3.9.10"
  },
  "orig_nbformat": 4
 },
 "nbformat": 4,
 "nbformat_minor": 2
}

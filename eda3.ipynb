{
 "cells": [
  {
   "cell_type": "code",
   "execution_count": 5,
   "metadata": {},
   "outputs": [
    {
     "name": "stdout",
     "output_type": "stream",
     "text": [
      "22093\n",
      "19540\n"
     ]
    }
   ],
   "source": [
    "import pandas as pd\n",
    "data = pd.read_csv('data\\wine_cleared.csv')\n",
    "#print(data['country'].value_counts())\n",
    "data['is_france'] = data['country'].apply(lambda x: 1 if x == 'France' else 0)\n",
    "data['is_italy'] = data['country'].apply(lambda x: 1 if x == 'Italy' else 0)\n",
    "print(data['is_france'].sum())\n",
    "print(data['is_italy'].sum())"
   ]
  },
  {
   "cell_type": "code",
   "execution_count": 9,
   "metadata": {},
   "outputs": [
    {
     "name": "stdout",
     "output_type": "stream",
     "text": [
      "39781\n"
     ]
    }
   ],
   "source": [
    "regex = '\\d{4}' # регулярное выражение для нахождения чисел\n",
    "data['year'] = data['title'].str.findall(regex).str.get(0)\n",
    "data['year'] = pd.to_numeric(data['year'])\n",
    "data['old_wine'] = data['year'].apply(lambda x: 1 if x < 2010 else 0)\n",
    "print(data['old_wine'].sum())"
   ]
  },
  {
   "cell_type": "code",
   "execution_count": 16,
   "metadata": {},
   "outputs": [
    {
     "name": "stdout",
     "output_type": "stream",
     "text": [
      "0                           Etna\n",
      "1                          Douro\n",
      "2              Willamette Valley\n",
      "3            Lake Michigan Shore\n",
      "4              Willamette Valley\n",
      "                   ...          \n",
      "129966    Erben Müller-Burggraef\n",
      "129967                    Oregon\n",
      "129968                    Alsace\n",
      "129969                    Alsace\n",
      "129970                    Alsace\n",
      "Name: title, Length: 129971, dtype: object\n"
     ]
    }
   ],
   "source": [
    "regex = '\\(([^()]+)\\)'\n",
    "result = data['title'].str.findall(regex).str.get(0)\n",
    "print(result)"
   ]
  }
 ],
 "metadata": {
  "kernelspec": {
   "display_name": "Python 3",
   "language": "python",
   "name": "python3"
  },
  "language_info": {
   "codemirror_mode": {
    "name": "ipython",
    "version": 3
   },
   "file_extension": ".py",
   "mimetype": "text/x-python",
   "name": "python",
   "nbconvert_exporter": "python",
   "pygments_lexer": "ipython3",
   "version": "3.9.10"
  }
 },
 "nbformat": 4,
 "nbformat_minor": 2
}

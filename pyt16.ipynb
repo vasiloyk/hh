{
 "cells": [
  {
   "cell_type": "code",
   "execution_count": 2,
   "metadata": {},
   "outputs": [
    {
     "name": "stdout",
     "output_type": "stream",
     "text": [
      "           population    square\n",
      "country                        \n",
      "Англия          56.29    133396\n",
      "Канада          38.05   9984670\n",
      "США            322.28   9826630\n",
      "Россия         146.24  17125191\n",
      "Украина         45.50    603628\n",
      "Беларусь         9.50    207600\n",
      "Казахстан       17.04   2724902\n"
     ]
    }
   ],
   "source": [
    "import pandas as pd\n",
    "\n",
    "countries_data = pd.read_csv('data/countries.csv', sep=';')\n",
    "countries_data.to_csv('data/countries.txt', index=False, sep=' ')\n",
    "\n",
    "txt_df = pd.read_table('data/countries.txt', sep=' ', index_col=['country'])\n",
    "\n",
    "print(txt_df)\n",
    "\n"
   ]
  },
  {
   "cell_type": "code",
   "execution_count": 5,
   "metadata": {},
   "outputs": [
    {
     "name": "stdout",
     "output_type": "stream",
     "text": [
      "            0                           1             2\n",
      "0   User_943         Accumanst@gmail.com         ������\n",
      "1   User_908           Advismowr@mail.ru         ������\n",
      "2   User_962             Anachso@ukr.net      ���������\n",
      "3   User_973            Antecia@inbox.ru          �����\n",
      "4   User_902          Balliaryva@ukr.net               \n",
      "..        ...                         ...           ...\n",
      "95  User_959    UpdatesCurious@yahoo.com         ������\n",
      "96  User_901          V2artierso@mail.ru    �����������\n",
      "97  User_970            Vashoterlo@bk.ru        �������\n",
      "98  User_965         Visuareda@yahoo.com        �������\n",
      "99  User_921                Aavast@ya.ru         ������\n",
      "\n",
      "[100 rows x 3 columns]\n"
     ]
    }
   ],
   "source": [
    "data=pd.read_csv('data/ErrorEnCoding.csv', header=None, encoding_errors='replace') \n",
    "print(data)\n",
    "\n",
    "# Импортируем субмодуль chardet.universal\n",
    "#from chardet.universaldetector import UniversalDetector\n",
    "\n",
    "#detector = UniversalDetector()\n",
    "\n",
    "#with open('data/ErrorEnCoding.csv', 'rb') as fh:\n",
    "#    for line in fh:\n",
    "#        detector.feed(line)\n",
    "#        if detector.done:\n",
    "#            break\n",
    "#print(detector.close())"
   ]
  },
  {
   "cell_type": "code",
   "execution_count": 7,
   "metadata": {},
   "outputs": [
    {
     "name": "stdout",
     "output_type": "stream",
     "text": [
      "            0                           1             2\n",
      "0   User_943         Accumanst@gmail.com         Ижевск\n",
      "1   User_908           Advismowr@mail.ru         Ижевск\n",
      "2   User_962             Anachso@ukr.net      Краснодар\n",
      "3   User_973            Antecia@inbox.ru          Пермь\n",
      "4   User_902          Balliaryva@ukr.net               \n",
      "..        ...                         ...           ...\n",
      "95  User_959    UpdatesCurious@yahoo.com         Тюмень\n",
      "96  User_901          V2artierso@mail.ru    Арзангелтск\n",
      "97  User_970            Vashoterlo@bk.ru        Воронеж\n",
      "98  User_965         Visuareda@yahoo.com        Воронеж\n",
      "99  User_921                Aavast@ya.ru         Ижевск\n",
      "\n",
      "[100 rows x 3 columns]\n"
     ]
    }
   ],
   "source": [
    "data=pd.read_csv('data/ErrorEnCoding.csv', encoding='koi8-r', header=None)\n",
    "print(data)"
   ]
  },
  {
   "cell_type": "code",
   "execution_count": 8,
   "metadata": {},
   "outputs": [
    {
     "name": "stdout",
     "output_type": "stream",
     "text": [
      "       Unnamed: 0        Suburb           Address  Rooms Type      Price   \n",
      "0               1    Abbotsford      85 Turner St      2    h  1480000.0  \\\n",
      "1               2    Abbotsford   25 Bloomburg St      2    h  1035000.0   \n",
      "2               4    Abbotsford      5 Charles St      3    h  1465000.0   \n",
      "3               5    Abbotsford  40 Federation La      3    h   850000.0   \n",
      "4               6    Abbotsford       55a Park St      4    h  1600000.0   \n",
      "...           ...           ...               ...    ...  ...        ...   \n",
      "18391       23540  Williamstown   8/2 Thompson St      2    t   622500.0   \n",
      "18392       23541  Williamstown      96 Verdon St      4    h  2500000.0   \n",
      "18393       23544     Yallambie      17 Amaroo Wy      4    h  1100000.0   \n",
      "18394       23545    Yarraville        6 Agnes St      4    h  1285000.0   \n",
      "18395       23546    Yarraville     33 Freeman St      4    h  1050000.0   \n",
      "\n",
      "      Method     SellerG        Date  Distance  ...  Bathroom  Car  Landsize   \n",
      "0          S      Biggin   3/12/2016       2.5  ...       1.0  1.0     202.0  \\\n",
      "1          S      Biggin   4/02/2016       2.5  ...       1.0  0.0     156.0   \n",
      "2         SP      Biggin   4/03/2017       2.5  ...       2.0  0.0     134.0   \n",
      "3         PI      Biggin   4/03/2017       2.5  ...       2.0  1.0      94.0   \n",
      "4         VB      Nelson   4/06/2016       2.5  ...       1.0  2.0     120.0   \n",
      "...      ...         ...         ...       ...  ...       ...  ...       ...   \n",
      "18391     SP        Greg  26/08/2017       6.8  ...       2.0  1.0       NaN   \n",
      "18392     PI     Sweeney  26/08/2017       6.8  ...       1.0  5.0     866.0   \n",
      "18393      S  Buckingham  26/08/2017      12.7  ...       3.0  2.0       NaN   \n",
      "18394     SP     Village  26/08/2017       6.3  ...       1.0  1.0     362.0   \n",
      "18395     VB     Village  26/08/2017       6.3  ...       2.0  2.0       NaN   \n",
      "\n",
      "       BuildingArea  YearBuilt  CouncilArea  Lattitude Longtitude   \n",
      "0               NaN        NaN        Yarra  -37.79960  144.99840  \\\n",
      "1              79.0     1900.0        Yarra  -37.80790  144.99340   \n",
      "2             150.0     1900.0        Yarra  -37.80930  144.99440   \n",
      "3               NaN        NaN        Yarra  -37.79690  144.99690   \n",
      "4             142.0     2014.0        Yarra  -37.80720  144.99410   \n",
      "...             ...        ...          ...        ...        ...   \n",
      "18391          89.0     2010.0          NaN  -37.86393  144.90484   \n",
      "18392         157.0     1920.0          NaN  -37.85908  144.89299   \n",
      "18393           NaN        NaN          NaN  -37.72006  145.10547   \n",
      "18394         112.0     1920.0          NaN  -37.81188  144.88449   \n",
      "18395         139.0     1950.0          NaN  -37.81829  144.87404   \n",
      "\n",
      "                  Regionname  Propertycount  \n",
      "0      Northern Metropolitan         4019.0  \n",
      "1      Northern Metropolitan         4019.0  \n",
      "2      Northern Metropolitan         4019.0  \n",
      "3      Northern Metropolitan         4019.0  \n",
      "4      Northern Metropolitan         4019.0  \n",
      "...                      ...            ...  \n",
      "18391   Western Metropolitan         6380.0  \n",
      "18392   Western Metropolitan         6380.0  \n",
      "18393  Northern Metropolitan         1369.0  \n",
      "18394   Western Metropolitan         6543.0  \n",
      "18395   Western Metropolitan         6543.0  \n",
      "\n",
      "[18396 rows x 22 columns]\n"
     ]
    }
   ],
   "source": [
    "data = pd.read_table('https://raw.githubusercontent.com/esabunor/MLWorkspace/master/melb_data.csv', sep=',')\n",
    "print(data)"
   ]
  },
  {
   "cell_type": "code",
   "execution_count": 9,
   "metadata": {},
   "outputs": [
    {
     "name": "stdout",
     "output_type": "stream",
     "text": [
      "     gender race/ethnicity parental level of education         lunch   \n",
      "0    female        group B           bachelor's degree      standard  \\\n",
      "1    female        group C                some college      standard   \n",
      "2    female        group B             master's degree      standard   \n",
      "3      male        group A          associate's degree  free/reduced   \n",
      "4      male        group C                some college      standard   \n",
      "..      ...            ...                         ...           ...   \n",
      "995  female        group E             master's degree      standard   \n",
      "996    male        group C                 high school  free/reduced   \n",
      "997  female        group C                 high school  free/reduced   \n",
      "998  female        group D                some college      standard   \n",
      "999  female        group D                some college  free/reduced   \n",
      "\n",
      "    test preparation course  math score  reading score  writing score  \n",
      "0                      none          72             72             74  \n",
      "1                 completed          69             90             88  \n",
      "2                      none          90             95             93  \n",
      "3                      none          47             57             44  \n",
      "4                      none          76             78             75  \n",
      "..                      ...         ...            ...            ...  \n",
      "995               completed          88             99             95  \n",
      "996                    none          62             55             55  \n",
      "997               completed          59             71             65  \n",
      "998               completed          68             78             77  \n",
      "999                    none          77             86             86  \n",
      "\n",
      "[1000 rows x 8 columns]\n"
     ]
    }
   ],
   "source": [
    "data = pd.read_csv('data/students_performance.zip')\n",
    "print(data)"
   ]
  },
  {
   "cell_type": "code",
   "execution_count": 10,
   "metadata": {},
   "outputs": [],
   "source": [
    "compression_opts = dict(method='zip', archive_name='out.csv') \n",
    "data.to_csv('data/out.zip', index=False, compression=compression_opts)"
   ]
  },
  {
   "cell_type": "code",
   "execution_count": 11,
   "metadata": {},
   "outputs": [
    {
     "name": "stdout",
     "output_type": "stream",
     "text": [
      "   Student ID Student name  Grade\n",
      "0           1          Аня      8\n",
      "1           2         Катя      9\n",
      "2           3         Маша      7\n",
      "3           4         Миша      4\n",
      "4           5         Женя      8\n",
      "5           6          Оля      9\n",
      "6           7         Витя      8\n",
      "7           8         Дима      7\n",
      "8           9         Витя      5\n"
     ]
    }
   ],
   "source": [
    "grades = pd.read_excel('data/grades.xlsx')\n",
    "print(grades)"
   ]
  },
  {
   "cell_type": "code",
   "execution_count": null,
   "metadata": {},
   "outputs": [],
   "source": [
    "ratings_data = pd.read_excel('data/ratings_movies.xlsx', sheet_name='ratings')\n",
    "movies_data = pd.read_excel('data/ratings_movies.xlsx', sheet_name='movies')\n",
    "\n",
    "rm_data = ratings_data.merge(movies_data,how='left')\n",
    "print(rm_data)"
   ]
  },
  {
   "cell_type": "code",
   "execution_count": 33,
   "metadata": {},
   "outputs": [
    {
     "name": "stdout",
     "output_type": "stream",
     "text": [
      "thai\n"
     ]
    }
   ],
   "source": [
    "import json\n",
    "from pprint import pprint\n",
    "\n",
    "# Открываем файл и связываем его с объектом \"f\"\n",
    "with open('data/recipes.json') as f:  \n",
    "    # Загружаем содержимое открытого файла в переменную recipes  \n",
    "    recipes = json.load(f)\n",
    "    # Выводим на экран содержимое переменной recipes, используя функцию pprint()\n",
    "#pprint(recipes)\n",
    "\n",
    "#print(recipes[:][131:13122])\n",
    "\n",
    "for i in range(len(recipes)):\n",
    "    if recipes[i]['id'] == 13121:\n",
    "        print(recipes[i]['cuisine'])\n",
    "        break"
   ]
  }
 ],
 "metadata": {
  "kernelspec": {
   "display_name": "Python 3",
   "language": "python",
   "name": "python3"
  },
  "language_info": {
   "codemirror_mode": {
    "name": "ipython",
    "version": 3
   },
   "file_extension": ".py",
   "mimetype": "text/x-python",
   "name": "python",
   "nbconvert_exporter": "python",
   "pygments_lexer": "ipython3",
   "version": "3.9.10"
  },
  "orig_nbformat": 4
 },
 "nbformat": 4,
 "nbformat_minor": 2
}
